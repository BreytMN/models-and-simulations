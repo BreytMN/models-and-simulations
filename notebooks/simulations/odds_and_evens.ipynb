{
 "cells": [
  {
   "cell_type": "markdown",
   "id": "0c2e7189-b3b4-4923-b928-3e094cb823f2",
   "metadata": {},
   "source": [
    "# Odds and evens\n",
    "\n",
    "Odds and evens is a old hand game of chance, in which two players guess if the number of fingers they both release simultaneously sums up to even or odd. The basic version of this game each player can only play 1 or 2 fingers. While there are variations, we'll talk first about this specific version to preserve simplicity.\n",
    "\n",
    "There is a misconception around this game where some argues that choosing even has higher chance to win, since the possible values are 2, 3 and 4. However, by applying basic probabilites one can easily show that this is wrong.\n",
    "\n",
    "Lets consider two players, A and B:\n",
    "* A plays 1, B can play 1 or 2, therefore there is one possibility for even (2) and one for odd (3);\n",
    "* A plays 2, B can play 1 or 2, therefore there is one possibility for even (4) and one for odd (3).\n",
    "\n",
    "4 possible results, 2 for even and 2 for odd -> 50% chance for each result. Period.\n",
    "\n",
    "> But wait, some people play under different rules.\n",
    "\n",
    "Following the same reasoning, it can be easily shown that any game is fair as long the number of possible sum of fingers a single player can plays is even. If it is odd, the game isn't fair anymore.\n",
    "\n",
    "Lets consider a game where a player can plays 1, 2 or 3 fingers:\n",
    "* A plays 1, B can play 1, 2 or 3, therefore there is two possibilities for even (2 and 4) and one for odd (3);\n",
    "* A plays 2, B can play 1, 2 or 2, therefore there is one possibility for even (4) and two for odd (3 and 5);\n",
    "* A plays 3, B can play 1, 2 or 3, therefore there is two possibilities for even (4 and 6) and one for odd (5).\n",
    "\n",
    "9 possible results, 5 for even and 4 for odd. Even has more chance to win.\n",
    "\n",
    "Therefore, always make sure that the rules are so that the number of possible value is even."
   ]
  },
  {
   "cell_type": "markdown",
   "id": "790eda5b-852c-4c4d-9971-28df6441a460",
   "metadata": {},
   "source": [
    "# Simulating the game\n",
    "\n",
    "In case you don't trust the math, you can simulate it with the code below."
   ]
  },
  {
   "cell_type": "code",
   "execution_count": null,
   "id": "e5effa20-752f-45c6-9293-c881c32c7396",
   "metadata": {},
   "outputs": [],
   "source": [
    "num_games = 1000000\n",
    "min_ = 1\n",
    "max_ = 2"
   ]
  },
  {
   "cell_type": "code",
   "execution_count": null,
   "id": "87726029-a0d0-4022-8a80-bd6e5183b8bc",
   "metadata": {
    "tags": []
   },
   "outputs": [],
   "source": [
    "import numpy as np\n",
    "\n",
    "generator = np.random.default_rng()\n",
    "player_a = generator.integers(min_, max_, num_games, endpoint=True)\n",
    "player_b = generator.integers(min_, max_, num_games, endpoint=True)\n",
    "\n",
    "even = 0\n",
    "odd = 0\n",
    "\n",
    "for a, b in zip(player_a, player_b):\n",
    "    if (a+b)%2 == 0: even += 1\n",
    "    else: odd += 1\n",
    "    \n",
    "print('evens:', even)\n",
    "print('odds: ', odd)"
   ]
  }
 ],
 "metadata": {
  "kernelspec": {
   "display_name": "Python 3 (ipykernel)",
   "language": "python",
   "name": "python3"
  },
  "language_info": {
   "codemirror_mode": {
    "name": "ipython",
    "version": 3
   },
   "file_extension": ".py",
   "mimetype": "text/x-python",
   "name": "python",
   "nbconvert_exporter": "python",
   "pygments_lexer": "ipython3",
   "version": "3.10.4"
  }
 },
 "nbformat": 4,
 "nbformat_minor": 5
}
